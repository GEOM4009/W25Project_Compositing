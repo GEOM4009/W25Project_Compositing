{
 "cells": [
  {
   "cell_type": "markdown",
   "id": "69334ace-b655-4653-bcf2-41ca91ac0697",
   "metadata": {},
   "source": [
    "# Sentinel-2 Compositing Tool"
   ]
  },
  {
   "cell_type": "code",
   "execution_count": 1,
   "id": "ed9037be-09cc-4732-aa5e-947f20705bf8",
   "metadata": {},
   "outputs": [],
   "source": [
    "import os \n",
    "wd = os.getcwd()\n",
    "os.chdir('functions')\n",
    "import prepS2\n",
    "import sortBands\n",
    "import gridStats\n",
    "import compositeBands"
   ]
  },
  {
   "cell_type": "code",
   "execution_count": 3,
   "id": "92160e9d-832c-45e3-9630-1a99c1f1368c",
   "metadata": {},
   "outputs": [
    {
     "ename": "SyntaxError",
     "evalue": "unterminated string literal (detected at line 3) (3766369939.py, line 3)",
     "output_type": "error",
     "traceback": [
      "\u001b[1;36m  Cell \u001b[1;32mIn[3], line 3\u001b[1;36m\u001b[0m\n\u001b[1;33m    outputPath = \"\u001b[0m\n\u001b[1;37m                 ^\u001b[0m\n\u001b[1;31mSyntaxError\u001b[0m\u001b[1;31m:\u001b[0m unterminated string literal (detected at line 3)\n"
     ]
    }
   ],
   "source": [
    "inputS2 = \"\"\n",
    "shpPth = \"\"\n",
    "outputPth = \"\"\n",
    "lineSpacing = 1000"
   ]
  },
  {
   "cell_type": "code",
   "execution_count": null,
   "id": "76bcd10a-16e3-4c1a-9b63-7eab34ed7640",
   "metadata": {},
   "outputs": [],
   "source": [
    "prepS2(imputS2,shpPth)\n",
    "bands = sortBands(imputS2)\n",
    "bandStats = gridStats(bands,lineSpacing)\n",
    "medComp = compositeBands(bands)"
   ]
  }
 ],
 "metadata": {
  "kernelspec": {
   "display_name": "Python 3 (ipykernel)",
   "language": "python",
   "name": "python3"
  },
  "language_info": {
   "codemirror_mode": {
    "name": "ipython",
    "version": 3
   },
   "file_extension": ".py",
   "mimetype": "text/x-python",
   "name": "python",
   "nbconvert_exporter": "python",
   "pygments_lexer": "ipython3",
   "version": "3.12.8"
  }
 },
 "nbformat": 4,
 "nbformat_minor": 5
}
