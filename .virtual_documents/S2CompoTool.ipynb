





import s2composite as s2
import rasterio as rio
from rasterio.plot import show








inputS2 = "demo//S2"
clippedS2 = "demo//S2//clipped"
compS2 = "demo//S2//composites"
aoiShp = "demo//StudyArea//StudyArea.shp"
lineSpacing = 5000











s2.prepS2(inputS2, aoiShp, clippedS2)








bands, meta10m, meta20m, meta60m = s2.sortBands(clippedS2)
s2.compositeBands(bands, meta10m, meta20m, meta60m, compS2)
composites = s2.resampleBandsTo10m(compS2, overwrite = False)





stats = s2.gridStats(bands, lineSpacing)








# display composite for each band of interest
s2.showBands(composites)


# display RGB composite
R = "demo/S2/composites/B04_resampled_10m.tif"
G = "demo/S2/composites/B03_resampled_10m.tif"
B = "demo/S2/composites/B02_resampled_10m.tif"

s2.showRGB(R, G, B)


# display a single band of interest
boi = "demo/S2/composites/B01_resampled_10m.tif"

with rio.open(boi) as src:
    show(src)
