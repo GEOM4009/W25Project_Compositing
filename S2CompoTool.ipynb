{
 "cells": [
  {
   "cell_type": "markdown",
   "id": "69334ace-b655-4653-bcf2-41ca91ac0697",
   "metadata": {},
   "source": [
    "# Sentinel-2 Compositing Tool"
   ]
  },
  {
   "cell_type": "code",
   "execution_count": 6,
   "id": "ed9037be-09cc-4732-aa5e-947f20705bf8",
   "metadata": {},
   "outputs": [],
   "source": [
    "import os \n",
    "\n",
    "# import python modules \n",
    "os.chdir('functions')\n",
    "from prepS2 import prepS2\n",
    "from sortBands import sortBands\n",
    "from gridStats import gridStats\n",
    "from compositeBands import compositeBands\n",
    "# resampling module"
   ]
  },
  {
   "cell_type": "code",
   "execution_count": 2,
   "id": "92160e9d-832c-45e3-9630-1a99c1f1368c",
   "metadata": {},
   "outputs": [],
   "source": [
    "# function inputs\n",
    "inputS2 = \"\"\n",
    "shpPth = \"\"\n",
    "outputPth = \"\"\n",
    "lineSpacing = 1000"
   ]
  },
  {
   "cell_type": "code",
   "execution_count": 7,
   "id": "01981650-6f5c-4a93-ab78-cd508bad1b4f",
   "metadata": {},
   "outputs": [
    {
     "data": {
      "text/plain": [
       "'/Users/adrianacaswell/Documents/Carleton/Coursework/W25/GEOM4009/Project/Data/S2'"
      ]
     },
     "execution_count": 7,
     "metadata": {},
     "output_type": "execute_result"
    }
   ],
   "source": [
    "# read in S2 files, clip to AOI, and convert to TIFF\n",
    "prepS2(inputS2,shpPth)"
   ]
  },
  {
   "cell_type": "code",
   "execution_count": 8,
   "id": "41f385fb-f175-40bb-abdd-af2738a1e938",
   "metadata": {},
   "outputs": [],
   "source": [
    "# sort bands\n",
    "bands = sortBands(inputS2)"
   ]
  },
  {
   "cell_type": "code",
   "execution_count": 10,
   "id": "68530892-02b7-477a-bcad-f1fb53dd9503",
   "metadata": {},
   "outputs": [
    {
     "ename": "ZeroDivisionError",
     "evalue": "float division by zero",
     "output_type": "error",
     "traceback": [
      "\u001b[0;31m---------------------------------------------------------------------------\u001b[0m",
      "\u001b[0;31mZeroDivisionError\u001b[0m                         Traceback (most recent call last)",
      "Cell \u001b[0;32mIn[10], line 2\u001b[0m\n\u001b[1;32m      1\u001b[0m \u001b[38;5;66;03m# calculate band stats\u001b[39;00m\n\u001b[0;32m----> 2\u001b[0m bandStats \u001b[38;5;241m=\u001b[39m \u001b[43mgridStats\u001b[49m\u001b[43m(\u001b[49m\u001b[43mbands\u001b[49m\u001b[43m,\u001b[49m\u001b[43mlineSpacing\u001b[49m\u001b[43m)\u001b[49m\n",
      "File \u001b[0;32m~/Documents/Carleton/Coursework/W25/GEOM4009/GitHub/W25Project_Compositing/functions/gridStats.py:137\u001b[0m, in \u001b[0;36mgridStats\u001b[0;34m(sortedBands, lineSpace)\u001b[0m\n\u001b[1;32m    135\u001b[0m \u001b[38;5;28;01mfor\u001b[39;00m bandKey \u001b[38;5;129;01min\u001b[39;00m sortedBands:\n\u001b[1;32m    136\u001b[0m     \u001b[38;5;28;01mif\u001b[39;00m printStatus: \u001b[38;5;28mprint\u001b[39m(\u001b[38;5;124m\"\u001b[39m\u001b[38;5;130;01m\\n\u001b[39;00m\u001b[38;5;124mlooking at \u001b[39m\u001b[38;5;124m\"\u001b[39m,bandKey)\n\u001b[0;32m--> 137\u001b[0m     bandStats[bandKey] \u001b[38;5;241m=\u001b[39m \u001b[43mgetStatsGrid\u001b[49m\u001b[43m(\u001b[49m\u001b[43msortedBands\u001b[49m\u001b[43m[\u001b[49m\u001b[43mbandKey\u001b[49m\u001b[43m]\u001b[49m\u001b[43m,\u001b[49m\u001b[43m \u001b[49m\u001b[43mgrid\u001b[49m\u001b[43m,\u001b[49m\u001b[43m \u001b[49m\u001b[43mcellSizes\u001b[49m\u001b[43m[\u001b[49m\u001b[43mbandKey\u001b[49m\u001b[43m]\u001b[49m\u001b[43m)\u001b[49m\n\u001b[1;32m    139\u001b[0m \u001b[38;5;28;01mreturn\u001b[39;00m bandStats\n",
      "File \u001b[0;32m~/Documents/Carleton/Coursework/W25/GEOM4009/GitHub/W25Project_Compositing/functions/gridStats.py:112\u001b[0m, in \u001b[0;36mgetStatsGrid\u001b[0;34m(bandGroup, grid, cellSize)\u001b[0m\n\u001b[1;32m    110\u001b[0m \u001b[38;5;28;01mfor\u001b[39;00m layer \u001b[38;5;129;01min\u001b[39;00m bandGroup:\n\u001b[1;32m    111\u001b[0m     cellVals\u001b[38;5;241m.\u001b[39mappend(layer[rowIndexR][colIndexR])\n\u001b[0;32m--> 112\u001b[0m     cvCell\u001b[38;5;241m.\u001b[39mappend(\u001b[43mgrabRegionStats\u001b[49m\u001b[43m(\u001b[49m\u001b[43mlayer\u001b[49m\u001b[43m,\u001b[49m\u001b[43m \u001b[49m\u001b[43mcolIndexR\u001b[49m\u001b[43m,\u001b[49m\u001b[43m \u001b[49m\u001b[43mrowIndexR\u001b[49m\u001b[43m,\u001b[49m\u001b[43m \u001b[49m\u001b[43mREGION_SIZE\u001b[49m\u001b[43m)\u001b[49m)\n\u001b[1;32m    114\u001b[0m cvRow\u001b[38;5;241m.\u001b[39mappend(cvCell)\n\u001b[1;32m    115\u001b[0m rowVals\u001b[38;5;241m.\u001b[39mappend(cellVals)\n",
      "File \u001b[0;32m~/Documents/Carleton/Coursework/W25/GEOM4009/GitHub/W25Project_Compositing/functions/gridStats.py:73\u001b[0m, in \u001b[0;36mgrabRegionStats\u001b[0;34m(imageLayer, x, y, rSize)\u001b[0m\n\u001b[1;32m     71\u001b[0m stDiv \u001b[38;5;241m=\u001b[39m stdev(values)\n\u001b[1;32m     72\u001b[0m mean \u001b[38;5;241m=\u001b[39m valSum\u001b[38;5;241m/\u001b[39mcellCount\n\u001b[0;32m---> 73\u001b[0m cv \u001b[38;5;241m=\u001b[39m \u001b[43mstDiv\u001b[49m\u001b[38;5;241;43m/\u001b[39;49m\u001b[43mmean\u001b[49m\n\u001b[1;32m     75\u001b[0m \u001b[38;5;28;01mreturn\u001b[39;00m cv\n",
      "\u001b[0;31mZeroDivisionError\u001b[0m: float division by zero"
     ]
    }
   ],
   "source": [
    "# calculate band stats\n",
    "bandStats = gridStats(bands,lineSpacing)"
   ]
  },
  {
   "cell_type": "code",
   "execution_count": 12,
   "id": "c2318829-3047-47a7-8a54-5ed550c866ee",
   "metadata": {},
   "outputs": [],
   "source": [
    "# create median value composite \n",
    "medComp = compositeBands(bands)"
   ]
  },
  {
   "cell_type": "code",
   "execution_count": null,
   "id": "56a70ca8-0114-46d7-befe-089e96ce1fc4",
   "metadata": {},
   "outputs": [],
   "source": [
    "# resample median value composites"
   ]
  }
 ],
 "metadata": {
  "kernelspec": {
   "display_name": "Python 3 (ipykernel)",
   "language": "python",
   "name": "python3"
  },
  "language_info": {
   "codemirror_mode": {
    "name": "ipython",
    "version": 3
   },
   "file_extension": ".py",
   "mimetype": "text/x-python",
   "name": "python",
   "nbconvert_exporter": "python",
   "pygments_lexer": "ipython3",
   "version": "3.12.6"
  }
 },
 "nbformat": 4,
 "nbformat_minor": 5
}
