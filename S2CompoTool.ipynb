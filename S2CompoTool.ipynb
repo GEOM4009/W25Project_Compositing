{
 "cells": [
  {
   "cell_type": "markdown",
   "id": "69334ace-b655-4653-bcf2-41ca91ac0697",
   "metadata": {},
   "source": [
    "# Sentinel-2 Compositing Tool\n",
    "Created by Adriana Caswell, Christian Devey, and Muhammad Ba"
   ]
  },
  {
   "cell_type": "markdown",
   "id": "12778edf-796d-4c26-906d-38d94322a264",
   "metadata": {},
   "source": [
    "This tool creates median value composites for Sentinel-2 bands, resamples them to 10 m, and provides statistics about the composite. For more details, view the [documentation](https://github.com/GEOM4009/W25Project_Compositing?tab=readme-ov-file#readme). "
   ]
  },
  {
   "cell_type": "code",
   "execution_count": null,
   "id": "ed9037be-09cc-4732-aa5e-947f20705bf8",
   "metadata": {},
   "outputs": [],
   "source": [
    "import s2composite as s2\n",
    "import rasterio as rio\n",
    "from rasterio.plot import show"
   ]
  },
  {
   "cell_type": "markdown",
   "id": "06354744-c02c-47cf-afc7-7f0cefd6fa58",
   "metadata": {},
   "source": [
    "## User inputs"
   ]
  },
  {
   "cell_type": "markdown",
   "id": "f02941f0-ba41-4460-aa2e-4b8bf9c77ae0",
   "metadata": {},
   "source": [
    "Source Sentinel-2 imagery for your area of interest from the [Copernicus Browser](https://browser.dataspace.copernicus.eu/?zoom=5&lat=50.16282&lng=20.78613&themeId=DEFAULT-THEME&visualizationUrl=U2FsdGVkX1%2FJM9kH%2BZTOodn54nQTsQojRItObJfZovzmGSowX5hLBm%2BFj2vfLZW%2FN2uZri%2FbvtjYDsX6u2J9wEGs7i4wLVFnhsQEAJQ5vCeK530XHWUgopyvijgM9lOU&datasetId=S2_L2A_CDAS&demSource3D=%22MAPZEN%22&cloudCoverage=30&dateMode=SINGLE) and define the following variables:  \n",
    "- **inputS2**: Path to the directory where zipped Sentinel-2 SAFE files are saved \n",
    "- **clippedS2**: Path to directory where clipped TIFF files will be saved after preprocessing  \n",
    "- **composites**: Path to directory where the median composites and resampled composites will be saved\n",
    "- **aoiShp**: Path to the shapefile representing your area of interest (AOI) which will be used to clip the Sentinel-2 files\n",
    "- **lineSpacing**: Spacing for grid statistics (in meters). This will help in calculating statistics like mean, variance, etc., over a grid defined by this spacing.  "
   ]
  },
  {
   "cell_type": "code",
   "execution_count": null,
   "id": "f23f4bb7-1cb1-40a2-9d11-c4c8a03af8df",
   "metadata": {},
   "outputs": [],
   "source": [
    "inputS2 = \"demo//S2\"\n",
    "clippedS2 = \"demo//S2//clipped\"\n",
    "compS2 = \"demo//S2//composites\"\n",
    "aoiShp = \"demo//StudyArea//StudyArea.shp\"\n",
    "lineSpacing = 5000"
   ]
  },
  {
   "cell_type": "markdown",
   "id": "9714a4bd-4ed1-4e13-852b-256d5071e62b",
   "metadata": {},
   "source": [
    "Once variables have been defined, you can *Run All Cells* or go through the workflow cell-by-cell below."
   ]
  },
  {
   "cell_type": "markdown",
   "id": "2b07d5f1-eac1-493c-9126-95afb1215120",
   "metadata": {
    "jp-MarkdownHeadingCollapsed": true
   },
   "source": [
    "## Create composites"
   ]
  },
  {
   "cell_type": "markdown",
   "id": "38c9743a-66ee-418d-a728-5672fbf87e14",
   "metadata": {},
   "source": [
    "Clip the Sentinel-2 SAFE files to your area of interest and output TIFF files."
   ]
  },
  {
   "cell_type": "code",
   "execution_count": null,
   "id": "01981650-6f5c-4a93-ab78-cd508bad1b4f",
   "metadata": {},
   "outputs": [],
   "source": [
    "s2.prepS2(inputS2, aoiShp, clippedS2)"
   ]
  },
  {
   "cell_type": "markdown",
   "id": "7a76b026-7ad3-4e45-b8c4-3be04ad51d74",
   "metadata": {},
   "source": [
    "<br/>\n",
    "Optional: Perform cloud masking or remove images with excessive cloud cover to improve the compositing results."
   ]
  },
  {
   "cell_type": "markdown",
   "id": "79204641-afc0-4f6f-9a70-0ed790556d8c",
   "metadata": {},
   "source": [
    "Run the following code block to create median value composites for each band and resample the composites to 10 m."
   ]
  },
  {
   "cell_type": "code",
   "execution_count": null,
   "id": "5b10003d-9d55-4f28-a288-52ccdf03d4cd",
   "metadata": {},
   "outputs": [],
   "source": [
    "bands, meta10m, meta20m, meta60m = s2.sortBands(clippedS2)\n",
    "s2.compositeBands(bands, meta10m, meta20m, meta60m, compS2)\n",
    "composites = s2.resampleBandsTo10m(compS2, overwrite = False)"
   ]
  },
  {
   "cell_type": "markdown",
   "id": "2feea496-478d-4d83-86d5-340d4a3132b8",
   "metadata": {
    "jp-MarkdownHeadingCollapsed": true
   },
   "source": [
    "## Composite statistics"
   ]
  },
  {
   "cell_type": "code",
   "execution_count": null,
   "id": "60a8fa50-ff2b-4499-a8af-8cacee8137c7",
   "metadata": {},
   "outputs": [],
   "source": [
    "stats = s2.gridStats(bands, lineSpacing)"
   ]
  },
  {
   "cell_type": "markdown",
   "id": "03f6b64f-1542-4eb2-8990-7c449e6dd40f",
   "metadata": {
    "jp-MarkdownHeadingCollapsed": true
   },
   "source": [
    "## Display composites"
   ]
  },
  {
   "cell_type": "markdown",
   "id": "2566035b-8c85-4b06-94d5-5dcf5543505f",
   "metadata": {},
   "source": [
    "Run the following code bloacks to:\n",
    "- Display the composite for each band of interest\n",
    "- Display an RGB composite of the composites created\n",
    "- Display the composite for a single band of interest"
   ]
  },
  {
   "cell_type": "code",
   "execution_count": null,
   "id": "f7b91d19-e729-44ed-ac79-0630445d76f5",
   "metadata": {},
   "outputs": [],
   "source": [
    "# display composite for each band of interest\n",
    "s2.showBands(composites)"
   ]
  },
  {
   "cell_type": "code",
   "execution_count": null,
   "id": "229e441a-2cab-4b6c-9a42-811d3e20e06e",
   "metadata": {},
   "outputs": [],
   "source": [
    "# display RGB composite\n",
    "R = \"demo/S2/composites/B04_resampled_10m.tif\"\n",
    "G = \"demo/S2/composites/B03_resampled_10m.tif\"\n",
    "B = \"demo/S2/composites/B02_resampled_10m.tif\"\n",
    "\n",
    "s2.showRGB(R, G, B)"
   ]
  },
  {
   "cell_type": "code",
   "execution_count": null,
   "id": "4bbe61c3-1ce1-4b80-bbd8-b3be4737030b",
   "metadata": {},
   "outputs": [],
   "source": [
    "# display a single band of interest\n",
    "boi = \"demo/S2/composites/B01_resampled_10m.tif\"\n",
    "\n",
    "with rio.open(boi) as src:\n",
    "    show(src)"
   ]
  }
 ],
 "metadata": {
  "kernelspec": {
   "display_name": "Python 3 (ipykernel)",
   "language": "python",
   "name": "python3"
  },
  "language_info": {
   "codemirror_mode": {
    "name": "ipython",
    "version": 3
   },
   "file_extension": ".py",
   "mimetype": "text/x-python",
   "name": "python",
   "nbconvert_exporter": "python",
   "pygments_lexer": "ipython3",
   "version": "3.12.6"
  }
 },
 "nbformat": 4,
 "nbformat_minor": 5
}
